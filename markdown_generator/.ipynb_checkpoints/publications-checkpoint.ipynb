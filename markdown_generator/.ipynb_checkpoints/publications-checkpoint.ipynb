{
 "cells": [
  {
   "cell_type": "markdown",
   "metadata": {},
   "source": [
    "# Publications markdown generator for academicpages\n",
    "\n",
    "Takes a TSV of publications with metadata and converts them for use with [academicpages.github.io](academicpages.github.io). This is an interactive Jupyter notebook ([see more info here](http://jupyter-notebook-beginner-guide.readthedocs.io/en/latest/what_is_jupyter.html)). The core python code is also in `publications.py`. Run either from the `markdown_generator` folder after replacing `publications.tsv` with one containing your data.\n",
    "\n",
    "TODO: Make this work with BibTex and other databases of citations, rather than Stuart's non-standard TSV format and citation style.\n"
   ]
  },
  {
   "cell_type": "markdown",
   "metadata": {},
   "source": [
    "## Data format\n",
    "\n",
    "The TSV needs to have the following columns: pub_date, title, venue, excerpt, citation, site_url, and paper_url, with a header at the top. \n",
    "\n",
    "- `excerpt` and `paper_url` can be blank, but the others must have values. \n",
    "- `pub_date` must be formatted as YYYY-MM-DD.\n",
    "- `url_slug` will be the descriptive part of the .md file and the permalink URL for the page about the paper. The .md file will be `YYYY-MM-DD-[url_slug].md` and the permalink will be `https://[yourdomain]/publications/YYYY-MM-DD-[url_slug]`\n",
    "\n",
    "This is how the raw file looks (it doesn't look pretty, use a spreadsheet or other program to edit and create)."
   ]
  },
  {
   "cell_type": "code",
   "execution_count": 1,
   "metadata": {},
   "outputs": [
    {
     "name": "stdout",
     "output_type": "stream",
     "text": [
      "pub_date\ttitle\tvenue\texcerpt\tcitation\turl_slug\tpaper_url\tcategory\thighlight\r",
      "2018-10-22\tControlling dispersion during single-cell polyacrylamide-gel electrophoresis in open microfluidic devices \tAnalytical Chemistry\t\"New tools for measuring protein expression in individual cells complement single-cell genomics and transcriptomics. To characterize a population of individual mammalian cells, hundreds to thousands of microwells are arrayed on a polyacrylamide-gel-coated glass microscope slide. In this open fluidic device format, we explore the feasibility of mitigating diffusional losses during lysis and polyacrylamide-gel electrophoresis (PAGE) through spatial control of the pore-size of the gel layer. To reduce in-plane diffusion-driven dilution of each single-cell lysate during in-microwell chemical lysis, we photopattern and characterize microwells with small-pore-size sidewalls ringing the microwell except at the injection region. To reduce out-of-plane-diffusion-driven-dilution-caused signal loss during both lysis and single-cell PAGE, we scrutinize a selectively permeable agarose lid layer. To reduce injection dispersion, we photopattern and study a stacking-gel feature at the head of each <1 mm separation axis. Lastly, we explore a semienclosed device design that reduces the cross-sectional area of the chip, thus reducing Joule-heating-induced dispersion during single-cell PAGE. As a result, we observed a 3-fold increase in separation resolution during a 30 s separation and a >2-fold enhancement of the signal-to-noise ratio. We present well-integrated strategies for enhancing overall single-cell-PAGE performance.\"\t\"Pan Q, Yamauchi KA, and Herr AE. Controlling Dispersion during Single-Cell Polyacrylamide-Gel Electrophoresis in Open Microfluidic Devices. <i>Analytical Chemistry</i>, 2018.\"\tsingle-cell-dispersion\thttp://academicpages.github.io/files/paper1.pdf\tmicrofluidics\tFALSE\r",
      "2017-03-23\tProfiling protein expression in circulating tumour cells using microfluidic western blotting\tNature Communications\t\"Circulating tumour cells (CTCs) are rare tumour cells found in the circulatory system of certain cancer patients. The clinical and functional significance of CTCs is still under investigation. Protein profiling of CTCs would complement the recent advances in enumeration, transcriptomic and genomic characterization of these rare cells and help define their characteristics. Here we describe a microfluidic western blot for an eight-plex protein panel for individual CTCs derived from estrogen receptor-positive (ER+) breast cancer patients. The precision handling and analysis reveals a capacity to assay sparingly available patient-derived CTCs, a biophysical CTC phenotype more lysis-resistant than breast cancer cell lines, a capacity to report protein expression on a per CTC basis and two statistically distinct GAPDH subpopulations within the patient-derived CTCs. Targeted single-CTC proteomics with the capacity for archivable, multiplexed protein analysis offers a unique, complementary taxonomy for understanding CTC biology and ascertaining clinical impact.\"\t\"Sinkala E. et al. Profiling protein expression in circulating tumor cells using microfluidic western blotting. <i>Nature Communications</i>, 2012\"\tsingle-ctc-western-blotting\thttp://academicpages.github.io/files/paper2.pdf\tmicrofluidics\tFALSE\r",
      "2017-02-13\tSubcellular western blotting of single cells\tMicrosystems and Nanoengineering\t\"Although immunoassays are the de-facto standard for determining subcellular protein localization in individual cells, antibody probe cross-reactivity and fixation artifacts remain confounding factors. To enhance selectivity while providing single-cell resolution, we introduce a subcellular western blotting technique capable of separately assaying proteins in the 14 pL cytoplasm and 2 pL nucleus of individual cells. To confer precision fluidic control, we describe a passive multilayer microdevice that leverages the rapid transport times afforded by miniaturization. After isolating single cells in microwells, we apply single-cell differential detergent fractionation to lyse and western blot the cytoplasmic lysate, whereas the nucleus remains intact in the microwell. Subsequently, we lyse the intact nucleus and western blot the nuclear lysate. To index each protein analysis to the originating subcellular compartment, we utilize bi-directional electrophoresis, a multidimensional separation that assays the lysate from each compartment in a distinct region of the separation axis. Single-cell bi-directional electrophoresis eliminates the need for semi-subjective image segmentation algorithms required in immunocytochemistry. The subcellular, single-cell western blot is demonstrated for six targets per cell, and successfully localizes spliceosome-associated proteins solubilized from large protein and RNA complexes, even for closely sized proteins (a 7 kDa difference). Measurement of NF-kB translocation dynamics in unfixed cells at 15-min intervals demonstrates reduced technical variance compared with immunofluorescence. This chemical cytometry assay directly measures the nucleocytoplasmic protein distribution in individual unfixed cells, thus providing insight into protein signaling in heterogeneous cell populations.\"\t\"Yamauchi KA, Herr AE. Subcellular Western Blotting of Single Cells. <i>Microsystems and Nanoengineering</i>, 2017.\"\tsubcellular-western-blotting\thttp://academicpages.github.io/files/paper3.pdf\tmicrofluidics\tTRUE\r",
      "2016-09-06\tDetection of isoforms differing by a single charge unit in individual cells\tAngewandte Chemie\t\"To measure protein isoforms in individual mammalian cells, we report single-cell resolution isoelectric focusing (scIEF) and high-selectivity immunoprobing. Microfluidic design and photoactivatable materials establish the tunable pH gradients required by IEF and precisely control the transport and handling of each 17-pL cell lysate during analysis. The scIEF assay resolves protein isoforms with resolution down to a single-charge unit, including both endogenous cytoplasmic and nuclear proteins from individual mammalian cells.\"\t\"Tentori AM*, Yamauchi KA* and Herr AE. Detection of Isoforms Differing by a Single Charge Unit in Individual Cells. <i>Angewandte Chemie</i>, 2016 *equal contribution\"\tsingle-cell-ief\thttp://academicpages.github.io/files/paper3.pdf\tmicrofluidics\tTRUE\r",
      "2016-07-28\tSingle cell-resolution western blotting\tNature Protocols\t\"This protocol describes how to perform western blotting on individual cells to measure cell-to-cell variation in protein expression levels and protein state. Like conventional western blotting, single-cell western blotting (scWB) is particularly useful for protein targets that lack selective antibodies (e.g., isoforms) and in cases in which background signal from intact cells is confounding. scWB is performed on a microdevice that comprises an array of microwells molded in a thin layer of a polyacrylamide gel (PAG). The gel layer functions as both a molecular sieving matrix during PAGE and a blotting scaffold during immunoprobing. scWB involves five main stages: (i) gravity settling of cells into microwells; (ii) chemical lysis of cells in each microwell; (iii) PAGE of each single-cell lysate; (iv) exposure of the gel to UV light to blot (immobilize) proteins to the gel matrix; and (v) in-gel immunoprobing of immobilized proteins. Multiplexing can be achieved by probing with antibody cocktails and using antibody stripping/reprobing techniques, enabling detection of 10+ proteins in each cell. We also describe microdevice fabrication for both uniform and pore-gradient microgels. To extend in-gel immunoprobing to gels of small pore size, we describe an optional gel de-cross-linking protocol for more effective introduction of antibodies into the gel layer. Once the microdevice has been fabricated, the assay can be completed in 4-6 h by microfluidic novices and it generates high-selectivity, multiplexed data from single cells. The technique is relevant when direct measurement of proteins in single cells is needed, with applications spanning the fundamental biosciences to applied biomedicine.\"\t\"Kang CC, Yamauchi KA*, Vlassakis J*, Sinkala E, Duncombe T, Herr AE. Single-cell resolution Western blotting. <i>Nature Protocols</i>, 2016.  *equal contribution\"\tsingle-cell-western-blotting\thttp://academicpages.github.io/files/paper3.pdf\tmicrofluidics\tTRUE\r",
      "2018-01-31\tArrayed isoelectric focusing using photopatterned multi-domain hydrogels\tElectrophoresis\t\"Isoelectric focusing (IEF) is a powerful separation method, useful for resolving subtle changes in the isoelectric point of unlabeled proteins. While microfluidic IEF has reduced the separation times from hours in traditional benchtop IEF to minutes, the enclosed devices hinder post_separation access to the sample for downstream analysis. The two_layer open IEF device presented here comprises a photopatterned hydrogel lid layer containing the chemistries required for IEF and a thin polyacrylamide bottom layer in which the analytes are separated. The open IEF device produces comparable minimum resolvable difference in isoelectric point and gradient stability to enclosed microfluidic devices while providing post_separation sample access by simple removal of the lid layer. Further, using simulations, we determine that the material properties and the length of the separation lanes are the primary factors that affect the electric field magnitude in the separation region. Finally, we demonstrate self_indexed photomasks for alignment_free fabrication of multi-domain hydrogels. We leverage this approach to generate arrayed pH gradients with a total of 80 concurrent separation lanes, which to our knowledge is the first demonstration of multiple IEF separations in series addressed by a single pair of electrodes.\"\t\"Yamauchi KA*, Tentori AM*, and Herr AE. Arrayed isoelectric focusing using photopatterned multi-domain hydrogels. <i>Electrophoresis</i>, 2018.  *equal contribution\"\tphotopatterned-ief-arrays\thttp://academicpages.github.io/files/paper3.pdf\tmicrofab\tTRUE\r",
      "2017-08-21\tFabrication of an open microfluidic device for immunoblotting\tAnalytical Chemistry\t\"Given the wide adoption of polydimethylsiloxane (PDMS) for the rapid fabrication of microfluidic networks and the utility of polyacrylamide gel electrophoresis (PAGE), we develop a technique for fabrication of PAGE molecular sieving gels in PDMS microchannel networks. In developing the fabrication protocol, we trade-off constraints on materials properties of these two polymer materials: PDMS is permeable to oxygen and the presence of oxygen inhibits the polymerization of polyacrylamide. We present a fabrication method compatible with performing PAGE protein separations in a composite PDMS-glass microdevice, that toggles from an enclosed microchannel for PAGE and blotting to an open PA gel lane for immunoprobing and readout. To overcome the inhibitory effects of oxygen, we coat the PDMS channel with a 10% benzophenone solution, which quenches the inhibiting effect of oxygen when exposed to UV, resulting in a PAGE-in-PDMS device. We then characterize the PAGE separation performance. Using a ladder of small-to-mid mass proteins (Trypsin Inhibitor (TI); Ovalbumin (OVA); Bovine Serum Albumin (BSA)), we observe resolution of the markers in <60 s, with separation resolution exceeding 1.0 and CVs of 8.4% for BSA-OVA and 2.4% for OVA-TI, with comparable reproducibility to glass microdevice PAGE. We show that benzophenone groups incorporated into the gel through methacrylamide can be UV-activated multiple times to photocapture protein. PDMS microchannel network is reversibly bonded to a glass slide allowing direct access to separated proteins and subsequent in situ diffusion-driven immunoprobing and total protein Sypro red staining. We see this PAGE-in-PDMS fabrication technique as expanding the application and use of microfluidic PAGE without the need for a glass microfabrication infrastructure.\"\t\"Abdel-Sayed P, Yamauchi KA, Gerver RE, Herr AE. Fabrication of an open microfluidic device for immunoblotting. <i>Analytical Chemistry</i>, 2017.\"\tpdms-polyacrylamide-fabrication\thttp://academicpages.github.io/files/paper3.pdf\tmicrofab\tTRUE\r",
      "2012-12-25\tIntegrating qPLM and biomechanical test data with an anisotropic fiber distribution model and predictions of TGF-1 and IGF-1 regulation of articular cartilage fiber modulus\tBiomechanics and Modeling in Mechanobiology\t\"A continuum mixture model with distinct collagen (COL) and glycosaminoglycan elastic constituents was developed for the solid matrix of immature bovine articular cartilage. A continuous COL fiber volume fraction distribution function and a true COL fiber elastic modulus ([Formula: see text] were used. Quantitative polarized light microscopy (qPLM) methods were developed to account for the relatively high cell density of immature articular cartilage and used with a novel algorithm that constructs a 3D distribution function from 2D qPLM data. For specimens untreated and cultured in vitro, most model parameters were specified from qPLM analysis and biochemical assay results; consequently, [Formula: see text] was predicted using an optimization to measured mechanical properties in uniaxial tension and unconfined compression. Analysis of qPLM data revealed a highly anisotropic fiber distribution, with principal fiber orientation parallel to the surface layer. For untreated samples, predicted [Formula: see text] values were 175 and 422 MPa for superficial (S) and middle (M) zone layers, respectively. TGF-[Formula: see text]1 treatment was predicted to increase and decrease [Formula: see text] values for the S and M layers to 281 and 309 MPa, respectively. IGF-1 treatment was predicted to decrease [Formula: see text] values for the S and M layers to 22 and 26 MPa, respectively. A novel finding was that distinct native depth-dependent fiber modulus properties were modulated to nearly homogeneous values by TGF-[Formula: see text]1 and IGF-1 treatments, with modulated values strongly dependent on treatment.\"\t\"Stender ME, Raub CB, Yamauchi KA, Shirazi R, Vena P, Sah RL, Hazelwood SJ, and Klisch SM. ntegrating qPLM and biomechanical test data with an anisotropic fiber distribution model and predictions of TGF-1 and IGF-1 regulation of articular cartilage fiber modulus. <i>Biomechanics and Modeling in Mechanobiology,</i>, 2012.\"\tmixed-cartilage-model\thttp://academicpages.github.io/files/paper3.pdf\tbiomech\tTRUE"
     ]
    }
   ],
   "source": [
    "!cat publications.tsv"
   ]
  },
  {
   "cell_type": "markdown",
   "metadata": {},
   "source": [
    "## Import pandas\n",
    "\n",
    "We are using the very handy pandas library for dataframes."
   ]
  },
  {
   "cell_type": "code",
   "execution_count": 2,
   "metadata": {},
   "outputs": [],
   "source": [
    "import pandas as pd"
   ]
  },
  {
   "cell_type": "markdown",
   "metadata": {},
   "source": [
    "## Import TSV\n",
    "\n",
    "Pandas makes this easy with the read_csv function. We are using a TSV, so we specify the separator as a tab, or `\\t`.\n",
    "\n",
    "I found it important to put this data in a tab-separated values format, because there are a lot of commas in this kind of data and comma-separated values can get messed up. However, you can modify the import statement, as pandas also has read_excel(), read_json(), and others."
   ]
  },
  {
   "cell_type": "code",
   "execution_count": 3,
   "metadata": {},
   "outputs": [
    {
     "data": {
      "text/html": [
       "<div>\n",
       "<style scoped>\n",
       "    .dataframe tbody tr th:only-of-type {\n",
       "        vertical-align: middle;\n",
       "    }\n",
       "\n",
       "    .dataframe tbody tr th {\n",
       "        vertical-align: top;\n",
       "    }\n",
       "\n",
       "    .dataframe thead th {\n",
       "        text-align: right;\n",
       "    }\n",
       "</style>\n",
       "<table border=\"1\" class=\"dataframe\">\n",
       "  <thead>\n",
       "    <tr style=\"text-align: right;\">\n",
       "      <th></th>\n",
       "      <th>pub_date</th>\n",
       "      <th>title</th>\n",
       "      <th>venue</th>\n",
       "      <th>excerpt</th>\n",
       "      <th>citation</th>\n",
       "      <th>url_slug</th>\n",
       "      <th>paper_url</th>\n",
       "      <th>category</th>\n",
       "      <th>highlight</th>\n",
       "    </tr>\n",
       "  </thead>\n",
       "  <tbody>\n",
       "    <tr>\n",
       "      <th>0</th>\n",
       "      <td>2018-10-22</td>\n",
       "      <td>Controlling dispersion during single-cell poly...</td>\n",
       "      <td>Analytical Chemistry</td>\n",
       "      <td>New tools for measuring protein expression in ...</td>\n",
       "      <td>Pan Q, Yamauchi KA, and Herr AE. Controlling D...</td>\n",
       "      <td>single-cell-dispersion</td>\n",
       "      <td>http://academicpages.github.io/files/paper1.pdf</td>\n",
       "      <td>microfluidics</td>\n",
       "      <td>False</td>\n",
       "    </tr>\n",
       "    <tr>\n",
       "      <th>1</th>\n",
       "      <td>2017-03-23</td>\n",
       "      <td>Profiling protein expression in circulating tu...</td>\n",
       "      <td>Nature Communications</td>\n",
       "      <td>Circulating tumour cells (CTCs) are rare tumou...</td>\n",
       "      <td>Sinkala E. et al. Profiling protein expression...</td>\n",
       "      <td>single-ctc-western-blotting</td>\n",
       "      <td>http://academicpages.github.io/files/paper2.pdf</td>\n",
       "      <td>microfluidics</td>\n",
       "      <td>False</td>\n",
       "    </tr>\n",
       "    <tr>\n",
       "      <th>2</th>\n",
       "      <td>2017-02-13</td>\n",
       "      <td>Subcellular western blotting of single cells</td>\n",
       "      <td>Microsystems and Nanoengineering</td>\n",
       "      <td>Although immunoassays are the de-facto standar...</td>\n",
       "      <td>Yamauchi KA, Herr AE. Subcellular Western Blot...</td>\n",
       "      <td>subcellular-western-blotting</td>\n",
       "      <td>http://academicpages.github.io/files/paper3.pdf</td>\n",
       "      <td>microfluidics</td>\n",
       "      <td>True</td>\n",
       "    </tr>\n",
       "    <tr>\n",
       "      <th>3</th>\n",
       "      <td>2016-09-06</td>\n",
       "      <td>Detection of isoforms differing by a single ch...</td>\n",
       "      <td>Angewandte Chemie</td>\n",
       "      <td>To measure protein isoforms in individual mamm...</td>\n",
       "      <td>Tentori AM*, Yamauchi KA* and Herr AE. Detecti...</td>\n",
       "      <td>single-cell-ief</td>\n",
       "      <td>http://academicpages.github.io/files/paper3.pdf</td>\n",
       "      <td>microfluidics</td>\n",
       "      <td>True</td>\n",
       "    </tr>\n",
       "    <tr>\n",
       "      <th>4</th>\n",
       "      <td>2016-07-28</td>\n",
       "      <td>Single cell-resolution western blotting</td>\n",
       "      <td>Nature Protocols</td>\n",
       "      <td>This protocol describes how to perform western...</td>\n",
       "      <td>Kang CC, Yamauchi KA*, Vlassakis J*, Sinkala E...</td>\n",
       "      <td>single-cell-western-blotting</td>\n",
       "      <td>http://academicpages.github.io/files/paper3.pdf</td>\n",
       "      <td>microfluidics</td>\n",
       "      <td>True</td>\n",
       "    </tr>\n",
       "    <tr>\n",
       "      <th>5</th>\n",
       "      <td>2018-01-31</td>\n",
       "      <td>Arrayed isoelectric focusing using photopatter...</td>\n",
       "      <td>Electrophoresis</td>\n",
       "      <td>Isoelectric focusing (IEF) is a powerful separ...</td>\n",
       "      <td>Yamauchi KA*, Tentori AM*, and Herr AE. Arraye...</td>\n",
       "      <td>photopatterned-ief-arrays</td>\n",
       "      <td>http://academicpages.github.io/files/paper3.pdf</td>\n",
       "      <td>microfab</td>\n",
       "      <td>True</td>\n",
       "    </tr>\n",
       "    <tr>\n",
       "      <th>6</th>\n",
       "      <td>2017-08-21</td>\n",
       "      <td>Fabrication of an open microfluidic device for...</td>\n",
       "      <td>Analytical Chemistry</td>\n",
       "      <td>Given the wide adoption of polydimethylsiloxan...</td>\n",
       "      <td>Abdel-Sayed P, Yamauchi KA, Gerver RE, Herr AE...</td>\n",
       "      <td>pdms-polyacrylamide-fabrication</td>\n",
       "      <td>http://academicpages.github.io/files/paper3.pdf</td>\n",
       "      <td>microfab</td>\n",
       "      <td>True</td>\n",
       "    </tr>\n",
       "    <tr>\n",
       "      <th>7</th>\n",
       "      <td>2012-12-25</td>\n",
       "      <td>Integrating qPLM and biomechanical test data w...</td>\n",
       "      <td>Biomechanics and Modeling in Mechanobiology</td>\n",
       "      <td>A continuum mixture model with distinct collag...</td>\n",
       "      <td>Stender ME, Raub CB, Yamauchi KA, Shirazi R, V...</td>\n",
       "      <td>mixed-cartilage-model</td>\n",
       "      <td>http://academicpages.github.io/files/paper3.pdf</td>\n",
       "      <td>biomech</td>\n",
       "      <td>True</td>\n",
       "    </tr>\n",
       "  </tbody>\n",
       "</table>\n",
       "</div>"
      ],
      "text/plain": [
       "     pub_date                                              title  \\\n",
       "0  2018-10-22  Controlling dispersion during single-cell poly...   \n",
       "1  2017-03-23  Profiling protein expression in circulating tu...   \n",
       "2  2017-02-13       Subcellular western blotting of single cells   \n",
       "3  2016-09-06  Detection of isoforms differing by a single ch...   \n",
       "4  2016-07-28            Single cell-resolution western blotting   \n",
       "5  2018-01-31  Arrayed isoelectric focusing using photopatter...   \n",
       "6  2017-08-21  Fabrication of an open microfluidic device for...   \n",
       "7  2012-12-25  Integrating qPLM and biomechanical test data w...   \n",
       "\n",
       "                                         venue  \\\n",
       "0                         Analytical Chemistry   \n",
       "1                        Nature Communications   \n",
       "2             Microsystems and Nanoengineering   \n",
       "3                            Angewandte Chemie   \n",
       "4                             Nature Protocols   \n",
       "5                              Electrophoresis   \n",
       "6                         Analytical Chemistry   \n",
       "7  Biomechanics and Modeling in Mechanobiology   \n",
       "\n",
       "                                             excerpt  \\\n",
       "0  New tools for measuring protein expression in ...   \n",
       "1  Circulating tumour cells (CTCs) are rare tumou...   \n",
       "2  Although immunoassays are the de-facto standar...   \n",
       "3  To measure protein isoforms in individual mamm...   \n",
       "4  This protocol describes how to perform western...   \n",
       "5  Isoelectric focusing (IEF) is a powerful separ...   \n",
       "6  Given the wide adoption of polydimethylsiloxan...   \n",
       "7  A continuum mixture model with distinct collag...   \n",
       "\n",
       "                                            citation  \\\n",
       "0  Pan Q, Yamauchi KA, and Herr AE. Controlling D...   \n",
       "1  Sinkala E. et al. Profiling protein expression...   \n",
       "2  Yamauchi KA, Herr AE. Subcellular Western Blot...   \n",
       "3  Tentori AM*, Yamauchi KA* and Herr AE. Detecti...   \n",
       "4  Kang CC, Yamauchi KA*, Vlassakis J*, Sinkala E...   \n",
       "5  Yamauchi KA*, Tentori AM*, and Herr AE. Arraye...   \n",
       "6  Abdel-Sayed P, Yamauchi KA, Gerver RE, Herr AE...   \n",
       "7  Stender ME, Raub CB, Yamauchi KA, Shirazi R, V...   \n",
       "\n",
       "                          url_slug  \\\n",
       "0           single-cell-dispersion   \n",
       "1      single-ctc-western-blotting   \n",
       "2     subcellular-western-blotting   \n",
       "3                  single-cell-ief   \n",
       "4     single-cell-western-blotting   \n",
       "5        photopatterned-ief-arrays   \n",
       "6  pdms-polyacrylamide-fabrication   \n",
       "7            mixed-cartilage-model   \n",
       "\n",
       "                                         paper_url       category  highlight  \n",
       "0  http://academicpages.github.io/files/paper1.pdf  microfluidics      False  \n",
       "1  http://academicpages.github.io/files/paper2.pdf  microfluidics      False  \n",
       "2  http://academicpages.github.io/files/paper3.pdf  microfluidics       True  \n",
       "3  http://academicpages.github.io/files/paper3.pdf  microfluidics       True  \n",
       "4  http://academicpages.github.io/files/paper3.pdf  microfluidics       True  \n",
       "5  http://academicpages.github.io/files/paper3.pdf       microfab       True  \n",
       "6  http://academicpages.github.io/files/paper3.pdf       microfab       True  \n",
       "7  http://academicpages.github.io/files/paper3.pdf        biomech       True  "
      ]
     },
     "execution_count": 3,
     "metadata": {},
     "output_type": "execute_result"
    }
   ],
   "source": [
    "publications = pd.read_csv(\"publications.tsv\", sep=\"\\t\", header=0)\n",
    "publications\n"
   ]
  },
  {
   "cell_type": "markdown",
   "metadata": {},
   "source": [
    "## Escape special characters\n",
    "\n",
    "YAML is very picky about how it takes a valid string, so we are replacing single and double quotes (and ampersands) with their HTML encoded equivilents. This makes them look not so readable in raw format, but they are parsed and rendered nicely."
   ]
  },
  {
   "cell_type": "code",
   "execution_count": 4,
   "metadata": {},
   "outputs": [],
   "source": [
    "html_escape_table = {\n",
    "    \"&\": \"&amp;\",\n",
    "    '\"': \"&quot;\",\n",
    "    \"'\": \"&apos;\"\n",
    "    }\n",
    "\n",
    "def html_escape(text):\n",
    "    \"\"\"Produce entities within text.\"\"\"\n",
    "    return \"\".join(html_escape_table.get(c,c) for c in text)"
   ]
  },
  {
   "cell_type": "markdown",
   "metadata": {},
   "source": [
    "## Creating the markdown files\n",
    "\n",
    "This is where the heavy lifting is done. This loops through all the rows in the TSV dataframe, then starts to concatentate a big string (```md```) that contains the markdown for each type. It does the YAML metadata first, then does the description for the individual page."
   ]
  },
  {
   "cell_type": "code",
   "execution_count": 5,
   "metadata": {},
   "outputs": [],
   "source": [
    "import os\n",
    "for row, item in publications.iterrows():\n",
    "    \n",
    "    md_filename = str(item.pub_date) + \"-\" + str(item.url_slug) + \".md\"\n",
    "    html_filename = str(item.pub_date) + \"-\" + str(item.url_slug)\n",
    "    year = str(item.pub_date)[:4]\n",
    "    \n",
    "    ## YAML variables\n",
    "    \n",
    "    md = \"---\\ntitle: \\\"\"   + str(item.title) + '\"\\n'\n",
    "    \n",
    "    md += \"\"\"collection: \"\"\" + item.category\n",
    "    \n",
    "    md += \"\"\"\\npermalink: \"\"\" + \"\"\"/\"\"\" + item.category + \"\"\"/\"\"\" + html_filename\n",
    "    \n",
    "    if len(str(item.excerpt)) > 5:\n",
    "        md += \"\\nexcerpt: '\" + html_escape(item.excerpt) + \"'\"\n",
    "    \n",
    "    md += \"\\ndate: \" + str(item.pub_date) \n",
    "    \n",
    "    md += \"\\nvenue: '\" + html_escape(item.venue) + \"'\"\n",
    "    \n",
    "    if len(str(item.paper_url)) > 5:\n",
    "        md += \"\\npaperurl: '\" + item.paper_url + \"'\"\n",
    "    \n",
    "    md += \"\\ncitation: '\" + html_escape(item.citation) + \"'\"\n",
    "    \n",
    "    if item.highlight:\n",
    "        md += \"\\nhighlight: \" + \"true\"\n",
    "        \n",
    "    else:\n",
    "        md += \"\\nhighlight: \" + \"false\"\n",
    "    \n",
    "    md += \"\\n---\"\n",
    "    \n",
    "    ## Markdown description for individual page\n",
    "        \n",
    "    if len(str(item.excerpt)) > 5:\n",
    "        md += \"\\n\" + html_escape(item.excerpt) + \"\\n\"\n",
    "    \n",
    "    if len(str(item.paper_url)) > 5:\n",
    "        md += \"\\n[Download paper here](\" + item.paper_url + \")\\n\" \n",
    "        \n",
    "    md += \"\\n<b>Recommended citation:</b> \" + item.citation\n",
    "    \n",
    "    md_filename = os.path.basename(md_filename)\n",
    "    \n",
    "    if item.category == \"biomech\":\n",
    "        directory = \"../_res_biomech/\"\n",
    "        \n",
    "    elif item.category == \"microfluidics\":\n",
    "        directory = \"../_microfluidics/\"\n",
    "    \n",
    "    elif item.category == \"microfab\":\n",
    "        directory = \"../_microfab/\"\n",
    "    \n",
    "    elif item.category == \"in_situ\":\n",
    "        directory = \"../_in_situ/\"\n",
    "    \n",
    "    else:\n",
    "        directory = \"../_publications/\"\n",
    "       \n",
    "    with open(directory + md_filename, 'w') as f:\n",
    "        f.write(md)"
   ]
  },
  {
   "cell_type": "markdown",
   "metadata": {},
   "source": [
    "These files are in the publications directory, one directory below where we're working from."
   ]
  },
  {
   "cell_type": "code",
   "execution_count": 6,
   "metadata": {},
   "outputs": [
    {
     "name": "stdout",
     "output_type": "stream",
     "text": [
      "2009-10-01-paper-title-number-1.md 2015-10-01-paper-title-number-3.md\r\n",
      "2010-10-01-paper-title-number-2.md\r\n"
     ]
    }
   ],
   "source": [
    "!ls ../_publications/"
   ]
  },
  {
   "cell_type": "code",
   "execution_count": 7,
   "metadata": {},
   "outputs": [
    {
     "name": "stdout",
     "output_type": "stream",
     "text": [
      "---\r\n",
      "title: \"Paper Title Number 1\"\r\n",
      "collection: publications\r\n",
      "permalink: /publication/2009-10-01-paper-title-number-1\r\n",
      "excerpt: 'This paper is about the number 1. The number 2 is left for future work.'\r\n",
      "date: 2009-10-01\r\n",
      "venue: 'Journal 1'\r\n",
      "paperurl: 'http://academicpages.github.io/files/paper1.pdf'\r\n",
      "citation: 'Your Name, You. (2009). &quot;Paper Title Number 1.&quot; <i>Journal 1</i>. 1(1).'\r\n",
      "---\r\n",
      "This paper is about the number 1. The number 2 is left for future work.\r\n",
      "\r\n",
      "[Download paper here](http://academicpages.github.io/files/paper1.pdf)\r\n",
      "\r\n",
      "Recommended citation: Your Name, You. (2009). \"Paper Title Number 1.\" <i>Journal 1</i>. 1(1)."
     ]
    }
   ],
   "source": [
    "!cat ../_publications/2009-10-01-paper-title-number-1.md"
   ]
  },
  {
   "cell_type": "code",
   "execution_count": null,
   "metadata": {},
   "outputs": [],
   "source": []
  }
 ],
 "metadata": {
  "kernelspec": {
   "display_name": "Python 3",
   "language": "python",
   "name": "python3"
  },
  "language_info": {
   "codemirror_mode": {
    "name": "ipython",
    "version": 3
   },
   "file_extension": ".py",
   "mimetype": "text/x-python",
   "name": "python",
   "nbconvert_exporter": "python",
   "pygments_lexer": "ipython3",
   "version": "3.6.7"
  }
 },
 "nbformat": 4,
 "nbformat_minor": 1
}
